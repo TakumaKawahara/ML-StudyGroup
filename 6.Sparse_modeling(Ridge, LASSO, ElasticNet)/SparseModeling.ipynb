{
 "cells": [
  {
   "cell_type": "markdown",
   "metadata": {},
   "source": [
    "# Sparse Modeling (Ridge, LASSO, Elastic net)"
   ]
  },
  {
   "cell_type": "markdown",
   "metadata": {},
   "source": [
    "## Bias and Variance Trade-off\n",
    "We need to optimize number of variable (variable selection).  \n",
    "With fewer variables, it is difficult to get high accuracy for both training set and test set. With too many variables, we expect to get higher accuracy for training set, but get lower accuracy for test set.\n",
    "![Bias_Variance_Trade-off2](Bias_Variance_Trade-off2.png)\n",
    "\n",
    "Reference  \n",
    "[SlideShare](https://www.slideshare.net/ShinyaShimizu/ss-11623505)  \n",
    "[Dr.Scott Fortmann' Essays](http://scott.fortmann-roe.com/docs/BiasVariance.html)"
   ]
  },
  {
   "cell_type": "markdown",
   "metadata": {},
   "source": [
    "Reference  \n",
    "[Dr.Joseph E. Gonzalez's lecture note in UC Berkeley](https://people.eecs.berkeley.edu/~jegonzal/assets/slides/linear_regression.pdf)"
   ]
  },
  {
   "cell_type": "code",
   "execution_count": null,
   "metadata": {},
   "outputs": [],
   "source": []
  }
 ],
 "metadata": {
  "kernelspec": {
   "display_name": "Python [default]",
   "language": "python",
   "name": "python3"
  },
  "language_info": {
   "codemirror_mode": {
    "name": "ipython",
    "version": 3
   },
   "file_extension": ".py",
   "mimetype": "text/x-python",
   "name": "python",
   "nbconvert_exporter": "python",
   "pygments_lexer": "ipython3",
   "version": "3.6.3"
  }
 },
 "nbformat": 4,
 "nbformat_minor": 2
}
