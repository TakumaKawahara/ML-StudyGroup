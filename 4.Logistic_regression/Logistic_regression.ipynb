{
 "cells": [
  {
   "cell_type": "markdown",
   "metadata": {},
   "source": [
    "# Logistic regression"
   ]
  },
  {
   "cell_type": "markdown",
   "metadata": {},
   "source": [
    "##  What is Logistic regression?  \n",
    "Reference  \n",
    "[Stanford CS229 lecture note](http://cs229.stanford.edu/notes/cs229-notes1.pdf)  \n",
    "\n",
    "As we learned before, we can build linear regression model to explain (or predict) values.  \n",
    "But what if the objective variable is binary variable (e.g Yes/No, OK/NG, Defect or not)? The binary variable can be converted to 1 and 0 (Yes=1, No=0), so we can build the regression model to predict the 1/0 value. \n",
    "But the linear regression model is not good model anymore because the predicted value can be more than 1 and less than 0.  \n",
    "We can solve this problem with using \"logistic regression\".  \n",
    "  \n",
    "In logisctic regression, we use \"Logit function (also known as Sigmoid function)\" to convert $\\sum_{i}^{n} \\beta_{0} + \\beta_{i}x_i$ to continuous vale between 0 and 1.  \n",
    "  \n",
    "The Logit function (aka Sigmoid function) is as below.\n",
    "\n",
    "$$\n",
    "g(z) = \\frac{1}{1 + e^{-z}}\n",
    "$$"
   ]
  },
  {
   "cell_type": "code",
   "execution_count": 10,
   "metadata": {},
   "outputs": [
    {
     "data": {
      "image/png": "[encoded data removed]",
      "text/plain": [
       "<matplotlib.figure.Figure at 0x11507e048>"
      ]
     },
     "metadata": {},
     "output_type": "display_data"
    }
   ],
   "source": [
    "import matplotlib.pyplot as plt\n",
    "import seaborn as sns\n",
    "import numpy as np\n",
    "z = np.arange(-10,10,0.1)\n",
    "g = 1/(1 + np.exp(-z))\n",
    "plt.plot(z, g)\n",
    "plt.xlabel('z', fontsize=12)\n",
    "plt.ylabel('g', fontsize=12)\n",
    "plt.show()"
   ]
  },
  {
   "cell_type": "markdown",
   "metadata": {},
   "source": [
    "So the Logistic regression can be written as below.  \n",
    "$$\n",
    "f(x,\\beta) = \\frac{1}{1 + e^{- \\sum_{k}^{n} \\beta_{0} + \\beta_{k}x_k}}\n",
    "$$"
   ]
  },
  {
   "cell_type": "markdown",
   "metadata": {},
   "source": [
    "Then, how can we find the proper $\\beta_{i}$?  \n",
    "We find them using maximum likehood estimation with a set of probabilistic assumptions.  \n",
    "Let us assume that\n",
    "$$\n",
    "\\begin{eqnarray*}\n",
    "P(y = 1|x;\\beta) &=& f(x, \\beta)\\\\\n",
    "P(y = 0|x;\\beta) &=& 1 - f(x, \\beta)\n",
    "\\end{eqnarray*}\n",
    "$$\n",
    "\n",
    "Note that this can be written more compactly as \n",
    "$$\n",
    "p(y | x; \\beta) = (f(x, \\beta))^{y}(1 - f(x, \\beta))^{1 - y}\n",
    "$$\n",
    "\n",
    "Assuming that the n (training examples) were generated independently, we can then write down likehood of the parameters as below.\n",
    "\n",
    "$$  \n",
    "\\begin{eqnarray*}\n",
    "\\log L(\\beta) &=& \\log \\prod_{i=1}^n p(y_i|x_i; \\beta)\\\\\n",
    "&=& \\log \\prod_{i=1}^n (f(x_i, \\beta))^{y_i}(1 - f(x_i, \\beta))^{1 - y_i}\\\\\n",
    "&=& \\sum_{i=1}^{n} y_i \\log (f(x_i, \\beta)) + (1 - y_i) \\log (1 - f(x_i, \\beta))\\\\              \n",
    "\\end{eqnarray*}\n",
    "$$"
   ]
  },
  {
   "cell_type": "markdown",
   "metadata": {},
   "source": [
    "Next, we maximize the log likehood using gradient descent.  \n",
    "Before that I explain useful property of the logistic funtion (aka Sigmoid function). It is easy to calculate the derivative as below.\n",
    "\n",
    "$$  \n",
    "\\begin{eqnarray*}\n",
    "\\frac{d g(z)}{dz} &=& \\frac{d}{dz} \\frac{1}{1 + e^{-z}}\\\\\n",
    "                  &=& \\frac{1}{(1 + e^{-z})^2}e^{-z}\\\\\n",
    "                  &=& \\frac{1}{1 + e^{-z}}(1 - \\frac{1}{1+e^{-z}})\\\\\n",
    "                  &=& g(z)(1 - g(z))\n",
    "\\end{eqnarray*}\n",
    "$$  "
   ]
  },
  {
   "cell_type": "markdown",
   "metadata": {},
   "source": [
    "Using equation above, we can easily calculate the derivative of log likehood function.  \n",
    "$$\n",
    "\\begin{eqnarray*}\n",
    "\\frac{\\partial}{\\partial \\beta_k} \\log{L(\\beta)} &=&\n",
    "\\end{eqnarray*}\n",
    "$$"
   ]
  },
  {
   "cell_type": "code",
   "execution_count": null,
   "metadata": {},
   "outputs": [],
   "source": []
  }
 ],
 "metadata": {
  "kernelspec": {
   "display_name": "Python [default]",
   "language": "python",
   "name": "python3"
  },
  "language_info": {
   "codemirror_mode": {
    "name": "ipython",
    "version": 3
   },
   "file_extension": ".py",
   "mimetype": "text/x-python",
   "name": "python",
   "nbconvert_exporter": "python",
   "pygments_lexer": "ipython3",
   "version": "3.6.3"
  }
 },
 "nbformat": 4,
 "nbformat_minor": 2
}
